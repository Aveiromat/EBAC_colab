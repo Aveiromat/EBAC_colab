{
  "nbformat": 4,
  "nbformat_minor": 0,
  "metadata": {
    "colab": {
      "provenance": [],
      "toc_visible": true,
      "include_colab_link": true
    },
    "kernelspec": {
      "name": "python3",
      "display_name": "Python 3"
    }
  },
  "cells": [
    {
      "cell_type": "markdown",
      "metadata": {
        "id": "view-in-github",
        "colab_type": "text"
      },
      "source": [
        "<a href=\"https://colab.research.google.com/github/Aveiromat/EBAC_colab/blob/aula02/Aula_02.ipynb\" target=\"_parent\"><img src=\"https://colab.research.google.com/assets/colab-badge.svg\" alt=\"Open In Colab\"/></a>"
      ]
    },
    {
      "cell_type": "markdown",
      "metadata": {
        "id": "KJqp9AANOCtf"
      },
      "source": [
        "<img src=\"https://raw.githubusercontent.com/andre-marcos-perez/ebac-course-utils/main/media/logo/newebac_logo_black_half.png\" alt=\"ebac-logo\">\n",
        "\n",
        "---\n",
        "\n",
        "# **Módulo** | Python: Estruturas de Dados\n",
        "Caderno de **Exercícios**<br>\n",
        "Professor [André Perez](https://www.linkedin.com/in/andremarcosperez/)\n",
        "\n",
        "---"
      ]
    },
    {
      "cell_type": "markdown",
      "metadata": {
        "id": "d9jDtUbDOE1-"
      },
      "source": [
        "# **Tópicos**\n",
        "\n",
        "<ol type=\"1\">\n",
        "  <li>Listas;</li>\n",
        "  <li>Conjuntos;</li>\n",
        "  <li>Dicionários.</li>\n",
        "</ol>"
      ]
    },
    {
      "cell_type": "markdown",
      "metadata": {
        "id": "SmoHgt-lwkpD"
      },
      "source": [
        "---"
      ]
    },
    {
      "cell_type": "markdown",
      "metadata": {
        "id": "GABI6OW8OfQ2"
      },
      "source": [
        "# **Exercícios**"
      ]
    },
    {
      "cell_type": "markdown",
      "metadata": {
        "id": "muD1vxozykSC"
      },
      "source": [
        "## 1\\. Listas"
      ]
    },
    {
      "cell_type": "markdown",
      "metadata": {
        "id": "ahrFfCuBxJKs"
      },
      "source": [
        "Criei uma lista chamada `filmes` com o nome dos 10 primeiros filmes mais bem avaliados no site no [IMDB](https://www.imdb.com/chart/top/). Imprima o resultado."
      ]
    },
    {
      "cell_type": "code",
      "metadata": {
        "id": "OgL6Hv3bzOHI"
      },
      "source": [
        "filmes = ['1.Um Sonho de Liberdade', ' 2.O Poderoso Chefão', '3.Batman: O Cavaleiro das Trevas', '4.O Poderoso Chefão II', '5.12 Homens e uma Sentença',\n",
        "'6.A Lista de Schindler', '7.O Senhor dos Anéis: O Retorno do Rei', '8.ulp Fiction: Tempo de Violência', '9.O Senhor dos Anéis: A Sociedade do Anel', '10.Três Homens em Conflito']"
      ],
      "execution_count": null,
      "outputs": []
    },
    {
      "cell_type": "markdown",
      "metadata": {
        "id": "KI9zQRT2xa7m"
      },
      "source": [
        "Simule a movimentação do *ranking*. Utilize os métodos `insert` e `pop` para trocar a posição do primeiro e do segundo filme da lista. Imprima o resultado.\n",
        "\n"
      ]
    },
    {
      "cell_type": "code",
      "metadata": {
        "id": "zX3mA3_GzrXH",
        "colab": {
          "base_uri": "https://localhost:8080/"
        },
        "outputId": "1fee4f1e-69cd-4558-971c-6381c919933e"
      },
      "source": [
        "primeiro_filme = filmes.pop(0)\n",
        "print(primeiro_filme)\n",
        "\n",
        "filmes.insert(1, primeiro_filme)\n",
        "print(filmes)"
      ],
      "execution_count": null,
      "outputs": [
        {
          "output_type": "stream",
          "name": "stdout",
          "text": [
            " 2.O Poderoso Chefão\n",
            "['1.Um Sonho de Liberdade', ' 2.O Poderoso Chefão', '3.Batman: O Cavaleiro das Trevas', '4.O Poderoso Chefão II', '5.12 Homens e uma Sentença', '6.A Lista de Schindler', '7.O Senhor dos Anéis: O Retorno do Rei', '8.ulp Fiction: Tempo de Violência', '9.O Senhor dos Anéis: A Sociedade do Anel', '10.Três Homens em Conflito']\n"
          ]
        }
      ]
    },
    {
      "cell_type": "markdown",
      "metadata": {
        "id": "zMN1Q3jdwoJm"
      },
      "source": [
        "---"
      ]
    },
    {
      "cell_type": "markdown",
      "metadata": {
        "id": "lxa5L6uF0ZJE"
      },
      "source": [
        "## 2\\. Conjuntos"
      ]
    },
    {
      "cell_type": "markdown",
      "metadata": {
        "id": "9JahS2Kj0d5u"
      },
      "source": [
        "Aconteceu um erro no seu *ranking*. Simule a duplicação dos três últimos filmes da lista. Imprima o resultado."
      ]
    },
    {
      "cell_type": "code",
      "metadata": {
        "id": "BnjnLBNC6PGe",
        "colab": {
          "base_uri": "https://localhost:8080/"
        },
        "outputId": "3d7fad35-9671-411e-ceda-66d9fe37e630"
      },
      "source": [
        "filmes = ['1.Um Sonho de Liberdade', ' 2.O Poderoso Chefão', '3.Batman: O Cavaleiro das Trevas', '4.O Poderoso Chefão II', '5.12 Homens e uma Sentença',\n",
        "'6.A Lista de Schindler', '7.O Senhor dos Anéis: O Retorno do Rei', '8.pulp Fiction: Tempo de Violência', '8.pulp Fiction: Tempo de Violência',\n",
        "'9.O Senhor dos Anéis: A Sociedade do Anel', '9.O Senhor dos Anéis: A Sociedade do Anel', '10.Três Homens em Conflito', '10.Três Homens em Conflito']\n",
        "print(filmes)"
      ],
      "execution_count": null,
      "outputs": [
        {
          "output_type": "stream",
          "name": "stdout",
          "text": [
            "['1.Um Sonho de Liberdade', ' 2.O Poderoso Chefão', '3.Batman: O Cavaleiro das Trevas', '4.O Poderoso Chefão II', '5.12 Homens e uma Sentença', '6.A Lista de Schindler', '7.O Senhor dos Anéis: O Retorno do Rei', '8.pulp Fiction: Tempo de Violência', '8.pulp Fiction: Tempo de Violência', '9.O Senhor dos Anéis: A Sociedade do Anel', '9.O Senhor dos Anéis: A Sociedade do Anel', '10.Três Homens em Conflito', '10.Três Homens em Conflito']\n"
          ]
        }
      ]
    },
    {
      "cell_type": "markdown",
      "metadata": {
        "id": "suxTfCJB6ZiX"
      },
      "source": [
        "Utiliza a conversão `set` e `list` para remover os valores duplicados. Imprima o resultado."
      ]
    },
    {
      "cell_type": "code",
      "metadata": {
        "id": "ZvUGN-0n6joM",
        "colab": {
          "base_uri": "https://localhost:8080/"
        },
        "outputId": "22596ec8-b45b-4966-acf1-b94496fe4656"
      },
      "source": [
        "print(len(filmes))\n",
        "\n",
        "filmes = list(set(filmes))\n",
        "print(len(filmes))\n",
        "print(filmes)"
      ],
      "execution_count": null,
      "outputs": [
        {
          "output_type": "stream",
          "name": "stdout",
          "text": [
            "13\n",
            "10\n",
            "['10.Três Homens em Conflito', '1.Um Sonho de Liberdade', '7.O Senhor dos Anéis: O Retorno do Rei', '9.O Senhor dos Anéis: A Sociedade do Anel', '8.pulp Fiction: Tempo de Violência', '3.Batman: O Cavaleiro das Trevas', '5.12 Homens e uma Sentença', ' 2.O Poderoso Chefão', '4.O Poderoso Chefão II', '6.A Lista de Schindler']\n"
          ]
        }
      ]
    },
    {
      "cell_type": "markdown",
      "metadata": {
        "id": "ShkK35eQ6pAM"
      },
      "source": [
        "---"
      ]
    },
    {
      "cell_type": "markdown",
      "metadata": {
        "id": "EL_FzmxL6rTv"
      },
      "source": [
        "## 3\\. Dicionários"
      ]
    },
    {
      "cell_type": "markdown",
      "metadata": {
        "id": "i8l0gFqRCpfT"
      },
      "source": [
        "Repita os exercícios da parte 1 (listas). Os elementos da lista `filmes` devem ser dicionários no seguinte formato: `{'nome': <nome-do-filme>, 'ano': <ano do filme>}, 'sinopse': <sinopse do filme>}`."
      ]
    },
    {
      "cell_type": "code",
      "metadata": {
        "id": "tu6MSFwGDnHv",
        "colab": {
          "base_uri": "https://localhost:8080/"
        },
        "outputId": "2091adcc-f991-495c-febb-8885fa916ae6"
      },
      "source": [
        "filmes = {\n",
        "    'Um_Sonho_de_Liberdade': {\n",
        "        'nome': 'Um Sonho de Liberdade',\n",
        "        'ano': 1994,\n",
        "        'sinopse': 'Dois homens presos se reúnem ao longo de vários anos, encontrando consolo e eventual redenção através de atos de decência comum.'\n",
        "    },\n",
        "    'O_Poderoso_Chefão': {\n",
        "        'nome': 'O Poderoso Chefão' ,\n",
        "        'ano': 1972,\n",
        "        'sinopse': 'O patriarca idoso de uma dinastia do crime organizado transfere o controle de seu império clandestino para seu filho relutante.'\n",
        "    },\n",
        "    'Batman:_O_Cavaleiro_das_Trevas': {\n",
        "        'nome': 'Batman: O Cavaleiro das Trevas',\n",
        "        'ano': 2008,\n",
        "        'sinopse': 'Agora com a ajuda do tenente Jim Gordon e do promotor público Harvey Dent, Batman tem tudo para banir o crime de Gotham City de uma vez por todas. Mas em breve, os três serão vítimas do Coringa, que pretende lançar Gotham em uma anarquia.'\n",
        "    },\n",
        "    'O_Poderoso_Chefão_II': {\n",
        "        'nome': 'O Poderoso Chefão II',\n",
        "        'ano': 1974,\n",
        "        'sinopse': 'Em 1950, Michael Corleone, agora à frente da família, tenta expandir o negócio do crime a Las Vegas, Los Angeles e Cuba. Paralelamente, é revelada a história de Vito Corleone, e de como saiu da Sicília e chegou a Nova Iorque.'\n",
        "    },\n",
        "    '12_Homens_e_uma_Sentença': {\n",
        "        'nome': '12 Homens e uma Sentença',\n",
        "        'ano': 1957,\n",
        "        'sinopse': 'O julgamento de um assassinato em Nova Iorque é frustrado por um único membro, cujo ceticismo força o júri a considerar cuidadosamente as evidências antes de dar o veredito.'\n",
        "    },\n",
        "    'A_Lista_de_Schindler': {\n",
        "        'nome': 'A Lista de Schindler',\n",
        "        'ano': 1993,\n",
        "        'sinopse': 'Na Polônia ocupada pelos alemães durante a Segunda Guerra Mundial, o industrial Oskar Schindler começa a ser preocupar com seus trabalhadores judeus depois de testemunhar sua perseguição pelos nazistas.'\n",
        "    },\n",
        "    'O_Senhor_dos_Anéis:_O_Retorno_do_Rei': {\n",
        "        'nome': 'O Senhor dos Anéis: O Retorno do Rei',\n",
        "        'ano': 2003,\n",
        "        'sinopse': 'Gandalf e Aragorn lideram o Mundo dos Homens contra o exército de Sauron para desviar o olhar de Frodo e Sam quando eles se aproximam á Montanha da Perdição com o Um Anel.'\n",
        "    },\n",
        "    'Pulp_Fiction:_Tempo_de_Violência': {\n",
        "        'nome': 'Pulp Fiction: Tempo de Violência',\n",
        "        'ano': 1994,\n",
        "        'sinopse': 'As vidas de dois assassinos da máfia, um boxeador, um gângster e sua esposa, e um par de bandidos se entrelaçam em quatro histórias de violência e redenção.'\n",
        "    },\n",
        "    'O_Senhor_dos_Anéis:_A_Sociedade_do_Anel': {\n",
        "        'nome': 'O Senhor dos Anéis: A Sociedade do Anel',\n",
        "        'ano': 2001,\n",
        "        'sinopse': 'Um manso hobbit do Condado e oito companheiros partem em uma jornada para destruir o poderoso Um Anel e salvar a Terra-média das Trevas.'\n",
        "    },\n",
        "    'Três_Homens_em_Conflito': {\n",
        "        'nome': 'Três Homens em Conflito',\n",
        "        'ano': 1966,\n",
        "        'sinopse': 'Um impostor se junta com dois homens para encontrar fortuna num remoto cemitério.'\n",
        "    }\n",
        "}"
      ],
      "execution_count": 60,
      "outputs": [
        {
          "output_type": "stream",
          "name": "stdout",
          "text": [
            "{'Um_Sonho_de_Liberdade': {'nome': 'Um Sonho de Liberdade', 'ano': 1994, 'sinopse': 'Dois homens presos se reúnem ao longo de vários anos, encontrando consolo e eventual redenção através de atos de decência comum.'}, 'O_Poderoso_Chefão': {'nome': 'O Poderoso Chefão', 'ano': 1972, 'sinopse': 'O patriarca idoso de uma dinastia do crime organizado transfere o controle de seu império clandestino para seu filho relutante.'}, 'Batman:_O_Cavaleiro_das_Trevas': {'nome': 'Batman: O Cavaleiro das Trevas', 'ano': 2008, 'sinopse': 'Agora com a ajuda do tenente Jim Gordon e do promotor público Harvey Dent, Batman tem tudo para banir o crime de Gotham City de uma vez por todas. Mas em breve, os três serão vítimas do Coringa, que pretende lançar Gotham em uma anarquia.'}, 'O_Poderoso_Chefão_II': {'nome': 'O Poderoso Chefão II', 'ano': 1974, 'sinopse': 'Em 1950, Michael Corleone, agora à frente da família, tenta expandir o negócio do crime a Las Vegas, Los Angeles e Cuba. Paralelamente, é revelada a história de Vito Corleone, e de como saiu da Sicília e chegou a Nova Iorque.'}, '12_Homens_e_uma_Sentença': {'nome': '12 Homens e uma Sentença', 'ano': 1957, 'sinopse': 'O julgamento de um assassinato em Nova Iorque é frustrado por um único membro, cujo ceticismo força o júri a considerar cuidadosamente as evidências antes de dar o veredito.'}, 'A_Lista_de_Schindler': {'nome': 'A Lista de Schindler', 'ano': 1993, 'sinopse': 'Na Polônia ocupada pelos alemães durante a Segunda Guerra Mundial, o industrial Oskar Schindler começa a ser preocupar com seus trabalhadores judeus depois de testemunhar sua perseguição pelos nazistas.'}, 'O_Senhor_dos_Anéis:_O_Retorno_do_Rei': {'nome': 'O Senhor dos Anéis: O Retorno do Rei', 'ano': 2003, 'sinopse': 'Gandalf e Aragorn lideram o Mundo dos Homens contra o exército de Sauron para desviar o olhar de Frodo e Sam quando eles se aproximam á Montanha da Perdição com o Um Anel.'}, 'Pulp_Fiction:_Tempo_de_Violência': {'nome': 'Pulp Fiction: Tempo de Violência', 'ano': 1994, 'sinopse': 'As vidas de dois assassinos da máfia, um boxeador, um gângster e sua esposa, e um par de bandidos se entrelaçam em quatro histórias de violência e redenção.'}, 'O_Senhor_dos_Anéis:_A_Sociedade_do_Anel': {'nome': 'O Senhor dos Anéis: A Sociedade do Anel', 'ano': 2001, 'sinopse': 'Um manso hobbit do Condado e oito companheiros partem em uma jornada para destruir o poderoso Um Anel e salvar a Terra-média das Trevas.'}, 'Três_Homens_em_Conflito': {'nome': 'Três Homens em Conflito', 'ano': 1966, 'sinopse': 'Um impostor se junta com dois homens para encontrar fortuna num remoto cemitério.'}}\n"
          ]
        }
      ]
    }
  ]
}